{
 "cells": [
  {
   "cell_type": "code",
   "execution_count": 27,
   "id": "4aa493fb-df3c-4c2f-95ee-c092231871de",
   "metadata": {},
   "outputs": [],
   "source": [
    "import torch\n",
    "import pandas as pd\n",
    "from sklearn.model_selection import train_test_split"
   ]
  },
  {
   "cell_type": "code",
   "execution_count": 8,
   "id": "33be0131-9742-4b00-bc3c-34be87d01123",
   "metadata": {},
   "outputs": [
    {
     "name": "stderr",
     "output_type": "stream",
     "text": [
      "/home/patrick.araujo/miniconda3/envs/llama/lib/python3.12/site-packages/tqdm/auto.py:21: TqdmWarning: IProgress not found. Please update jupyter and ipywidgets. See https://ipywidgets.readthedocs.io/en/stable/user_install.html\n",
      "  from .autonotebook import tqdm as notebook_tqdm\n"
     ]
    }
   ],
   "source": [
    "from transformers import AutoTokenizer, AutoModelForSequenceClassification"
   ]
  },
  {
   "cell_type": "code",
   "execution_count": 9,
   "id": "439b80f8-a4b1-49f1-bd27-8664fc9cbdd3",
   "metadata": {},
   "outputs": [
    {
     "name": "stdout",
     "output_type": "stream",
     "text": [
      "Device: cuda:0\n"
     ]
    }
   ],
   "source": [
    "device = torch.device(\"cuda:0\" if torch.cuda.is_available() else \"cpu\")\n",
    "print(f'Device: {device}')"
   ]
  },
  {
   "cell_type": "code",
   "execution_count": 10,
   "id": "41ee844d-6d96-41a7-aa0f-a9e474d22774",
   "metadata": {},
   "outputs": [
    {
     "name": "stderr",
     "output_type": "stream",
     "text": [
      "Loading checkpoint shards: 100%|██████████████████| 3/3 [01:59<00:00, 39.81s/it]\n",
      "Some weights of LlamaForSequenceClassification were not initialized from the model checkpoint at /home/patrick.araujo/llama2/llama/llama-2-7b-hf and are newly initialized: ['score.weight']\n",
      "You should probably TRAIN this model on a down-stream task to be able to use it for predictions and inference.\n"
     ]
    }
   ],
   "source": [
    "# Load the pre-trained BERT model and tokenizer\n",
    "#mod = \"mistralai/Mistral-7B-v0.1\"\n",
    "model_name = \"/home/patrick.araujo/llama2/llama/llama-2-7b-hf\"\n",
    "model = AutoModelForSequenceClassification.from_pretrained(model_name, num_labels=3)\n",
    "tokenizer = AutoTokenizer.from_pretrained(model_name)"
   ]
  },
  {
   "cell_type": "code",
   "execution_count": 11,
   "id": "dcb81dec-2fc5-4f4a-b4e0-7059b05d9439",
   "metadata": {},
   "outputs": [],
   "source": [
    "text = \"Hi. How are you?\""
   ]
  },
  {
   "cell_type": "code",
   "execution_count": 12,
   "id": "86ae2ca4-e7e4-42da-880b-c1ab50834ece",
   "metadata": {},
   "outputs": [
    {
     "data": {
      "text/plain": [
       "'Hi. How are you?'"
      ]
     },
     "execution_count": 12,
     "metadata": {},
     "output_type": "execute_result"
    }
   ],
   "source": [
    "text"
   ]
  },
  {
   "cell_type": "code",
   "execution_count": 13,
   "id": "3758980d-c979-42a7-899d-7403e263b2d5",
   "metadata": {},
   "outputs": [],
   "source": [
    "encoded_text = tokenizer(text)[\"input_ids\"]"
   ]
  },
  {
   "cell_type": "code",
   "execution_count": 14,
   "id": "59112a7d-b14e-40fa-96ce-a718eca0a40e",
   "metadata": {},
   "outputs": [
    {
     "data": {
      "text/plain": [
       "[1, 6324, 29889, 1128, 526, 366, 29973]"
      ]
     },
     "execution_count": 14,
     "metadata": {},
     "output_type": "execute_result"
    }
   ],
   "source": [
    "encoded_text"
   ]
  },
  {
   "cell_type": "code",
   "execution_count": 15,
   "id": "b3c2aed0-3996-4ef7-81cc-2a8359a217c5",
   "metadata": {},
   "outputs": [
    {
     "name": "stdout",
     "output_type": "stream",
     "text": [
      "Decoded tokens back into text:  <s> Hi. How are you?\n"
     ]
    }
   ],
   "source": [
    "decoded_text = tokenizer.decode(encoded_text)\n",
    "print(\"Decoded tokens back into text: \", decoded_text)"
   ]
  },
  {
   "cell_type": "code",
   "execution_count": 16,
   "id": "29557af6-11d5-4fd5-bfa3-7a029f3a1acf",
   "metadata": {},
   "outputs": [
    {
     "name": "stdout",
     "output_type": "stream",
     "text": [
      "Encoded several texts:  [[1, 6324, 29892, 920, 526, 366, 29973], [1, 306, 29915, 29885, 1781], [1, 3869]]\n"
     ]
    }
   ],
   "source": [
    "list_texts = [\"Hi, how are you?\", \"I'm good\", \"Yes\"]\n",
    "encoded_texts = tokenizer(list_texts)\n",
    "print(\"Encoded several texts: \", encoded_texts[\"input_ids\"])"
   ]
  },
  {
   "cell_type": "code",
   "execution_count": 17,
   "id": "e7b67c2e-3fb5-4505-817c-b9e666e3565e",
   "metadata": {},
   "outputs": [
    {
     "name": "stdout",
     "output_type": "stream",
     "text": [
      "Using padding:  [[1, 6324, 29892, 920, 526, 366, 29973], [2, 2, 1, 306, 29915, 29885, 1781], [2, 2, 2, 2, 2, 1, 3869]]\n"
     ]
    }
   ],
   "source": [
    "tokenizer.pad_token = tokenizer.eos_token \n",
    "encoded_texts_longest = tokenizer(list_texts, padding=True)\n",
    "print(\"Using padding: \", encoded_texts_longest[\"input_ids\"])"
   ]
  },
  {
   "cell_type": "code",
   "execution_count": 18,
   "id": "c86cc700-abb6-4d73-ac4e-835cd688045c",
   "metadata": {},
   "outputs": [
    {
     "name": "stdout",
     "output_type": "stream",
     "text": [
      "Using truncation:  [[1, 6324, 29892], [1, 306, 29915], [1, 3869]]\n"
     ]
    }
   ],
   "source": [
    "encoded_texts_truncation = tokenizer(list_texts, max_length=3, truncation=True)\n",
    "print(\"Using truncation: \", encoded_texts_truncation[\"input_ids\"])"
   ]
  },
  {
   "cell_type": "code",
   "execution_count": 19,
   "id": "eef94a7a-bb7e-4a54-82ce-e21f64276bc4",
   "metadata": {},
   "outputs": [
    {
     "name": "stdout",
     "output_type": "stream",
     "text": [
      "Using left-side truncation:  [[1, 366, 29973], [1, 29885, 1781], [1, 3869]]\n"
     ]
    }
   ],
   "source": [
    "tokenizer.truncation_side = \"left\"\n",
    "encoded_texts_truncation_left = tokenizer(list_texts, max_length=3, truncation=True)\n",
    "print(\"Using left-side truncation: \", encoded_texts_truncation_left[\"input_ids\"])"
   ]
  },
  {
   "cell_type": "code",
   "execution_count": 20,
   "id": "25ed017c-77d0-48f7-8db4-a49fe2e91e7c",
   "metadata": {},
   "outputs": [
    {
     "name": "stdout",
     "output_type": "stream",
     "text": [
      "Using both padding and truncation:  [[1, 366, 29973], [1, 29885, 1781], [2, 1, 3869]]\n"
     ]
    }
   ],
   "source": [
    "encoded_texts_both = tokenizer(list_texts, max_length=3, truncation=True, padding=True)\n",
    "print(\"Using both padding and truncation: \", encoded_texts_both[\"input_ids\"])"
   ]
  },
  {
   "cell_type": "code",
   "execution_count": 21,
   "id": "f58b2bcf-4e9c-4372-896e-5aeb4261ccf2",
   "metadata": {},
   "outputs": [],
   "source": [
    "dataset = pd.read_csv('/home/patrick.araujo/llama2/datasets/balanced_output_train.csv')"
   ]
  },
  {
   "cell_type": "code",
   "execution_count": 22,
   "id": "993d59da-e0cb-41f4-bf70-1598f652131b",
   "metadata": {},
   "outputs": [
    {
     "data": {
      "text/html": [
       "<div>\n",
       "<style scoped>\n",
       "    .dataframe tbody tr th:only-of-type {\n",
       "        vertical-align: middle;\n",
       "    }\n",
       "\n",
       "    .dataframe tbody tr th {\n",
       "        vertical-align: top;\n",
       "    }\n",
       "\n",
       "    .dataframe thead th {\n",
       "        text-align: right;\n",
       "    }\n",
       "</style>\n",
       "<table border=\"1\" class=\"dataframe\">\n",
       "  <thead>\n",
       "    <tr style=\"text-align: right;\">\n",
       "      <th></th>\n",
       "      <th>level_0</th>\n",
       "      <th>index</th>\n",
       "      <th>Unnamed: 0</th>\n",
       "      <th>reviewId</th>\n",
       "      <th>content</th>\n",
       "      <th>score</th>\n",
       "      <th>thumbsUpCount</th>\n",
       "      <th>reviewCreatedVersion</th>\n",
       "      <th>at</th>\n",
       "      <th>replyContent</th>\n",
       "      <th>repliedAt</th>\n",
       "      <th>appVersion</th>\n",
       "      <th>sentiment</th>\n",
       "      <th>lengthContent</th>\n",
       "      <th>Language</th>\n",
       "    </tr>\n",
       "  </thead>\n",
       "  <tbody>\n",
       "    <tr>\n",
       "      <th>0</th>\n",
       "      <td>1007</td>\n",
       "      <td>1527</td>\n",
       "      <td>1527</td>\n",
       "      <td>7d6a4b7f-0f17-47c6-8010-3187dd1c86a7</td>\n",
       "      <td>I've been using my visa gift card. All the inf...</td>\n",
       "      <td>1</td>\n",
       "      <td>2</td>\n",
       "      <td>26.23.4.100</td>\n",
       "      <td>2023-12-28 21:20:56</td>\n",
       "      <td>NaN</td>\n",
       "      <td>NaN</td>\n",
       "      <td>26.23.4.100</td>\n",
       "      <td>0</td>\n",
       "      <td>224</td>\n",
       "      <td>en</td>\n",
       "    </tr>\n",
       "    <tr>\n",
       "      <th>1</th>\n",
       "      <td>8622</td>\n",
       "      <td>12941</td>\n",
       "      <td>12941</td>\n",
       "      <td>227c23e5-e178-4d69-bb99-3fe1445dc035</td>\n",
       "      <td>the PRIME PRICE IS WAY TO HIGH!!</td>\n",
       "      <td>5</td>\n",
       "      <td>0</td>\n",
       "      <td>26.19.2.100</td>\n",
       "      <td>2023-10-02 12:09:02</td>\n",
       "      <td>NaN</td>\n",
       "      <td>NaN</td>\n",
       "      <td>26.19.2.100</td>\n",
       "      <td>2</td>\n",
       "      <td>32</td>\n",
       "      <td>en</td>\n",
       "    </tr>\n",
       "    <tr>\n",
       "      <th>2</th>\n",
       "      <td>7774</td>\n",
       "      <td>11420</td>\n",
       "      <td>11420</td>\n",
       "      <td>bc748a49-bbd9-4773-a63f-f0950ad66310</td>\n",
       "      <td>easy to use and fast free delivery</td>\n",
       "      <td>5</td>\n",
       "      <td>0</td>\n",
       "      <td>26.20.0.100</td>\n",
       "      <td>2023-10-25 03:46:34</td>\n",
       "      <td>NaN</td>\n",
       "      <td>NaN</td>\n",
       "      <td>26.20.0.100</td>\n",
       "      <td>2</td>\n",
       "      <td>34</td>\n",
       "      <td>en</td>\n",
       "    </tr>\n",
       "    <tr>\n",
       "      <th>3</th>\n",
       "      <td>5478</td>\n",
       "      <td>8135</td>\n",
       "      <td>8135</td>\n",
       "      <td>0b2c1d90-3026-427a-bea9-918d1e067e8f</td>\n",
       "      <td>The Shopping On Amazon Is The Greatest Of All....</td>\n",
       "      <td>5</td>\n",
       "      <td>0</td>\n",
       "      <td>NaN</td>\n",
       "      <td>2023-11-12 01:54:20</td>\n",
       "      <td>NaN</td>\n",
       "      <td>NaN</td>\n",
       "      <td>NaN</td>\n",
       "      <td>2</td>\n",
       "      <td>111</td>\n",
       "      <td>en</td>\n",
       "    </tr>\n",
       "    <tr>\n",
       "      <th>4</th>\n",
       "      <td>13393</td>\n",
       "      <td>19072</td>\n",
       "      <td>19072</td>\n",
       "      <td>bee9613a-352d-4328-abaa-986316fe788d</td>\n",
       "      <td>I am rarely not satisfied seems I'm always sat...</td>\n",
       "      <td>4</td>\n",
       "      <td>0</td>\n",
       "      <td>24.22.0.100</td>\n",
       "      <td>2023-01-10 09:30:07</td>\n",
       "      <td>NaN</td>\n",
       "      <td>NaN</td>\n",
       "      <td>24.22.0.100</td>\n",
       "      <td>2</td>\n",
       "      <td>64</td>\n",
       "      <td>en</td>\n",
       "    </tr>\n",
       "    <tr>\n",
       "      <th>...</th>\n",
       "      <td>...</td>\n",
       "      <td>...</td>\n",
       "      <td>...</td>\n",
       "      <td>...</td>\n",
       "      <td>...</td>\n",
       "      <td>...</td>\n",
       "      <td>...</td>\n",
       "      <td>...</td>\n",
       "      <td>...</td>\n",
       "      <td>...</td>\n",
       "      <td>...</td>\n",
       "      <td>...</td>\n",
       "      <td>...</td>\n",
       "      <td>...</td>\n",
       "      <td>...</td>\n",
       "    </tr>\n",
       "    <tr>\n",
       "      <th>9307</th>\n",
       "      <td>7444</td>\n",
       "      <td>10822</td>\n",
       "      <td>10822</td>\n",
       "      <td>e95c926d-6510-4b97-8ad7-7b11885a46a7</td>\n",
       "      <td>Amazon is always my go to for everything!!</td>\n",
       "      <td>5</td>\n",
       "      <td>0</td>\n",
       "      <td>26.21.0.100</td>\n",
       "      <td>2023-11-03 01:06:14</td>\n",
       "      <td>NaN</td>\n",
       "      <td>NaN</td>\n",
       "      <td>26.21.0.100</td>\n",
       "      <td>2</td>\n",
       "      <td>42</td>\n",
       "      <td>en</td>\n",
       "    </tr>\n",
       "    <tr>\n",
       "      <th>9308</th>\n",
       "      <td>17040</td>\n",
       "      <td>24320</td>\n",
       "      <td>24320</td>\n",
       "      <td>f26c2ae2-6868-49ab-9845-963ce24f14f8</td>\n",
       "      <td>This is a great app but I didn't get my neckla...</td>\n",
       "      <td>3</td>\n",
       "      <td>1</td>\n",
       "      <td>22.14.0.100</td>\n",
       "      <td>2022-06-01 13:35:57</td>\n",
       "      <td>NaN</td>\n",
       "      <td>NaN</td>\n",
       "      <td>22.14.0.100</td>\n",
       "      <td>1</td>\n",
       "      <td>240</td>\n",
       "      <td>en</td>\n",
       "    </tr>\n",
       "    <tr>\n",
       "      <th>9309</th>\n",
       "      <td>14542</td>\n",
       "      <td>20557</td>\n",
       "      <td>20557</td>\n",
       "      <td>cd102f54-3164-494c-8287-b2064c82401b</td>\n",
       "      <td>11-3-22- I have 107 S&amp;S items. It is impossibl...</td>\n",
       "      <td>4</td>\n",
       "      <td>9</td>\n",
       "      <td>24.20.2.100</td>\n",
       "      <td>2022-11-03 11:59:23</td>\n",
       "      <td>NaN</td>\n",
       "      <td>NaN</td>\n",
       "      <td>24.20.2.100</td>\n",
       "      <td>2</td>\n",
       "      <td>320</td>\n",
       "      <td>en</td>\n",
       "    </tr>\n",
       "    <tr>\n",
       "      <th>9310</th>\n",
       "      <td>16186</td>\n",
       "      <td>22964</td>\n",
       "      <td>22964</td>\n",
       "      <td>d8372268-d77e-4666-a2dd-166decb97443</td>\n",
       "      <td>App sucks! Glitchy, slow, hurts my eyes cuz im...</td>\n",
       "      <td>3</td>\n",
       "      <td>0</td>\n",
       "      <td>24.12.6.100</td>\n",
       "      <td>2022-07-21 14:35:03</td>\n",
       "      <td>NaN</td>\n",
       "      <td>NaN</td>\n",
       "      <td>24.12.6.100</td>\n",
       "      <td>1</td>\n",
       "      <td>231</td>\n",
       "      <td>en</td>\n",
       "    </tr>\n",
       "    <tr>\n",
       "      <th>9311</th>\n",
       "      <td>3005</td>\n",
       "      <td>4351</td>\n",
       "      <td>4351</td>\n",
       "      <td>b4800993-d2c7-4f29-9b36-6b758e882a94</td>\n",
       "      <td>Look this app was good at one point in time bu...</td>\n",
       "      <td>1</td>\n",
       "      <td>0</td>\n",
       "      <td>26.22.0.100</td>\n",
       "      <td>2023-12-07 13:47:06</td>\n",
       "      <td>NaN</td>\n",
       "      <td>NaN</td>\n",
       "      <td>26.22.0.100</td>\n",
       "      <td>0</td>\n",
       "      <td>380</td>\n",
       "      <td>en</td>\n",
       "    </tr>\n",
       "  </tbody>\n",
       "</table>\n",
       "<p>9312 rows × 15 columns</p>\n",
       "</div>"
      ],
      "text/plain": [
       "      level_0  index  Unnamed: 0                              reviewId  \\\n",
       "0        1007   1527        1527  7d6a4b7f-0f17-47c6-8010-3187dd1c86a7   \n",
       "1        8622  12941       12941  227c23e5-e178-4d69-bb99-3fe1445dc035   \n",
       "2        7774  11420       11420  bc748a49-bbd9-4773-a63f-f0950ad66310   \n",
       "3        5478   8135        8135  0b2c1d90-3026-427a-bea9-918d1e067e8f   \n",
       "4       13393  19072       19072  bee9613a-352d-4328-abaa-986316fe788d   \n",
       "...       ...    ...         ...                                   ...   \n",
       "9307     7444  10822       10822  e95c926d-6510-4b97-8ad7-7b11885a46a7   \n",
       "9308    17040  24320       24320  f26c2ae2-6868-49ab-9845-963ce24f14f8   \n",
       "9309    14542  20557       20557  cd102f54-3164-494c-8287-b2064c82401b   \n",
       "9310    16186  22964       22964  d8372268-d77e-4666-a2dd-166decb97443   \n",
       "9311     3005   4351        4351  b4800993-d2c7-4f29-9b36-6b758e882a94   \n",
       "\n",
       "                                                content  score  thumbsUpCount  \\\n",
       "0     I've been using my visa gift card. All the inf...      1              2   \n",
       "1                      the PRIME PRICE IS WAY TO HIGH!!      5              0   \n",
       "2                    easy to use and fast free delivery      5              0   \n",
       "3     The Shopping On Amazon Is The Greatest Of All....      5              0   \n",
       "4     I am rarely not satisfied seems I'm always sat...      4              0   \n",
       "...                                                 ...    ...            ...   \n",
       "9307         Amazon is always my go to for everything!!      5              0   \n",
       "9308  This is a great app but I didn't get my neckla...      3              1   \n",
       "9309  11-3-22- I have 107 S&S items. It is impossibl...      4              9   \n",
       "9310  App sucks! Glitchy, slow, hurts my eyes cuz im...      3              0   \n",
       "9311  Look this app was good at one point in time bu...      1              0   \n",
       "\n",
       "     reviewCreatedVersion                   at  replyContent  repliedAt  \\\n",
       "0             26.23.4.100  2023-12-28 21:20:56           NaN        NaN   \n",
       "1             26.19.2.100  2023-10-02 12:09:02           NaN        NaN   \n",
       "2             26.20.0.100  2023-10-25 03:46:34           NaN        NaN   \n",
       "3                     NaN  2023-11-12 01:54:20           NaN        NaN   \n",
       "4             24.22.0.100  2023-01-10 09:30:07           NaN        NaN   \n",
       "...                   ...                  ...           ...        ...   \n",
       "9307          26.21.0.100  2023-11-03 01:06:14           NaN        NaN   \n",
       "9308          22.14.0.100  2022-06-01 13:35:57           NaN        NaN   \n",
       "9309          24.20.2.100  2022-11-03 11:59:23           NaN        NaN   \n",
       "9310          24.12.6.100  2022-07-21 14:35:03           NaN        NaN   \n",
       "9311          26.22.0.100  2023-12-07 13:47:06           NaN        NaN   \n",
       "\n",
       "       appVersion  sentiment  lengthContent Language  \n",
       "0     26.23.4.100          0            224       en  \n",
       "1     26.19.2.100          2             32       en  \n",
       "2     26.20.0.100          2             34       en  \n",
       "3             NaN          2            111       en  \n",
       "4     24.22.0.100          2             64       en  \n",
       "...           ...        ...            ...      ...  \n",
       "9307  26.21.0.100          2             42       en  \n",
       "9308  22.14.0.100          1            240       en  \n",
       "9309  24.20.2.100          2            320       en  \n",
       "9310  24.12.6.100          1            231       en  \n",
       "9311  26.22.0.100          0            380       en  \n",
       "\n",
       "[9312 rows x 15 columns]"
      ]
     },
     "execution_count": 22,
     "metadata": {},
     "output_type": "execute_result"
    }
   ],
   "source": [
    "dataset"
   ]
  },
  {
   "cell_type": "code",
   "execution_count": 23,
   "id": "6139a9e6-e6d6-45d5-ab71-d9efc5c86581",
   "metadata": {},
   "outputs": [
    {
     "data": {
      "text/plain": [
       "(9312, 15)"
      ]
     },
     "execution_count": 23,
     "metadata": {},
     "output_type": "execute_result"
    }
   ],
   "source": [
    "dataset.shape"
   ]
  },
  {
   "cell_type": "code",
   "execution_count": 28,
   "id": "edf44b63-fc10-4784-88b8-817cf19bf937",
   "metadata": {},
   "outputs": [],
   "source": [
    "# Create train and validation datasets\n",
    "comments = dataset[['content', 'sentiment']]\n",
    "train_data, val_data = train_test_split(comments, test_size=0.2, random_state=42)"
   ]
  },
  {
   "cell_type": "code",
   "execution_count": 31,
   "id": "8ad4a025-38fa-4ad1-a539-350bfd5a5790",
   "metadata": {},
   "outputs": [
    {
     "name": "stdout",
     "output_type": "stream",
     "text": [
      "(7449, 2)\n",
      "(1863, 2)\n"
     ]
    }
   ],
   "source": [
    "print(train_data.shape)\n",
    "print(val_data.shape)"
   ]
  },
  {
   "cell_type": "code",
   "execution_count": 50,
   "id": "ccb836b0-60ee-4dce-b07a-a65f89556710",
   "metadata": {},
   "outputs": [],
   "source": [
    "def returnSentiment(sentiment):\n",
    "    if sentiment == 0:\n",
    "        return 'negative'\n",
    "    elif sentiment == 1:\n",
    "        return 'neutral'\n",
    "    elif sentiment == 2:\n",
    "        return 'positive'\n",
    "\n",
    "def generate_prompt(data_point):\n",
    "    return f\"\"\"\n",
    "            Analyze the sentiment of the comment enclosed in square brackets, \n",
    "            determine if it is positive, neutral, or negative, and return the answer as \n",
    "            the corresponding sentiment label \"positive\" or \"neutral\" or \"negative\".\n",
    "\n",
    "            [{data_point[\"content\"]}] = {returnSentiment(data_point[\"sentiment\"])}\n",
    "            \"\"\".strip()"
   ]
  },
  {
   "cell_type": "code",
   "execution_count": 51,
   "id": "51b1c043-2d3d-4e9e-a9b5-c0d68af9c5c6",
   "metadata": {},
   "outputs": [],
   "source": [
    "def generate_test_prompt(data_point):\n",
    "    return f\"\"\"\n",
    "            Analyze the sentiment of the comment enclosed in square brackets, \n",
    "            determine if it is positive, neutral, or negative, and return the answer as \n",
    "            the corresponding sentiment label \"positive\" or \"neutral\" or \"negative\".\n",
    "\n",
    "            [{data_point[\"text\"]}] = \"\"\".strip()"
   ]
  },
  {
   "cell_type": "code",
   "execution_count": 52,
   "id": "24666613-64d7-4768-84b5-98f3873e7974",
   "metadata": {},
   "outputs": [],
   "source": [
    "X_train = pd.DataFrame(train_data.apply(generate_prompt, axis=1), columns=['content'])"
   ]
  },
  {
   "cell_type": "code",
   "execution_count": 53,
   "id": "698eb86d-ca74-43e4-8e04-7fdc58995f12",
   "metadata": {},
   "outputs": [
    {
     "name": "stdout",
     "output_type": "stream",
     "text": [
      "Analyze the sentiment of the comment enclosed in square brackets, \n",
      "            determine if it is positive, neutral, or negative, and return the answer as \n",
      "            the corresponding sentiment label \"positive\" or \"neutral\" or \"negative\".\n",
      "\n",
      "            [Usually love the app but lately if I try to use the baby registry and remove things from the registry the app freezes and I have to close it and start over. It's super annoying please fix it.] = neutral\n"
     ]
    }
   ],
   "source": [
    "print(X_train.iloc[0]['content'])"
   ]
  },
  {
   "cell_type": "code",
   "execution_count": null,
   "id": "cd71e991-2ffa-47b6-a730-15b9d322e493",
   "metadata": {},
   "outputs": [],
   "source": []
  }
 ],
 "metadata": {
  "kernelspec": {
   "display_name": "llama",
   "language": "python",
   "name": "llama"
  },
  "language_info": {
   "codemirror_mode": {
    "name": "ipython",
    "version": 3
   },
   "file_extension": ".py",
   "mimetype": "text/x-python",
   "name": "python",
   "nbconvert_exporter": "python",
   "pygments_lexer": "ipython3",
   "version": "3.12.1"
  }
 },
 "nbformat": 4,
 "nbformat_minor": 5
}
